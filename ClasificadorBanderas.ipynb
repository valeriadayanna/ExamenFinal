{
  "nbformat": 4,
  "nbformat_minor": 0,
  "metadata": {
    "colab": {
      "name": "ClasificadorBanderas.ipynb",
      "provenance": []
    },
    "kernelspec": {
      "name": "python3",
      "display_name": "Python 3"
    },
    "language_info": {
      "name": "python"
    }
  },
  "cells": [
    {
      "cell_type": "code",
      "execution_count": null,
      "metadata": {
        "id": "l1Zi5QfZOGGP"
      },
      "outputs": [],
      "source": [
        "!pip install -U -q PyDrive\n",
        "!pip install -q tflite-model-maker"
      ]
    },
    {
      "cell_type": "code",
      "source": [
        "from tflite_model_maker import image_classifier\n",
        "from tflite_model_maker.image_classifier import DataLoader\n",
        "from tflite_model_maker.config import ExportFormat\n",
        "\n",
        "import tensorflow as tf\n",
        "assert tf.__version__.startswith('2')\n",
        "\n",
        "import matplotlib.pyplot as plt\n",
        "import numpy as np\n",
        "from google.colab import files\n",
        "\n",
        "from pydrive.auth import GoogleAuth\n",
        "from pydrive.drive import GoogleDrive\n",
        "from google.colab import auth\n",
        "from oauth2client.client import GoogleCredentials\n",
        "import os"
      ],
      "metadata": {
        "id": "P-2JKjVHOPLj"
      },
      "execution_count": null,
      "outputs": []
    },
    {
      "cell_type": "code",
      "source": [
        "auth.authenticate_user()\n",
        "gauth = GoogleAuth()\n",
        "gauth.credentials = GoogleCredentials.get_application_default()\n",
        "drive = GoogleDrive(gauth)\n",
        "\n",
        "local_download_path = os.path.expanduser('~/data')\n",
        "try:\n",
        "  os.makedirs(local_download_path)\n",
        "except: pass"
      ],
      "metadata": {
        "id": "k6zsNWt0OWck"
      },
      "execution_count": null,
      "outputs": []
    },
    {
      "cell_type": "code",
      "source": [
        "# descagar los archivos :D\n",
        "file_list = drive.ListFile(\n",
        "    {'q': \"'1GZ-MdkCztGtWEUhj73MPV3p74V3u08As' in parents\"}).GetList()\n",
        "\n",
        "for f in file_list:\n",
        "  # 3. Create & download by id.\n",
        "  print('title: %s, id: %s' % (f['title'], f['id']))\n",
        "  fname = os.path.join(local_download_path, f['title'])\n",
        "  print('downloading to {}'.format(fname))\n",
        "  f_ = drive.CreateFile({'id': f['id']})\n",
        "  f_.GetContentFile(fname)\n",
        "\n",
        "Descromprimir\n",
        "!unzip /root/data/FlagsDataset.zip -d /root/data/FlagsDataset"
      ],
      "metadata": {
        "id": "urOeLgyNOc0g"
      },
      "execution_count": null,
      "outputs": []
    },
    {
      "cell_type": "code",
      "source": [
        "data = DataLoader.from_folder('/root/data/lagsDataset')"
      ],
      "metadata": {
        "id": "LB4YKsuGOqMk"
      },
      "execution_count": null,
      "outputs": []
    },
    {
      "cell_type": "code",
      "source": [
        "train_data, test_data = data.split(0.9)\n",
        "model = image_classifier.create(train_data, validation_data=test_data, epochs=50, learning_rate = 0.001, batch_size=16)\n",
        "loss, accuracy = model.evaluate(test_data)"
      ],
      "metadata": {
        "id": "idhfS_41Oswf"
      },
      "execution_count": null,
      "outputs": []
    },
    {
      "cell_type": "code",
      "source": [
        "# Guardar el Modelo\n",
        "model.export(export_dir='/root/data/', export_format=ExportFormat.SAVED_MODEL)"
      ],
      "metadata": {
        "id": "aoAUqfiOO0Tj"
      },
      "execution_count": null,
      "outputs": []
    },
    {
      "cell_type": "code",
      "source": [
        "#convertit modelo a float\n",
        "converter = tf.lite.TFLiteConverter.from_saved_model('/root/data/saved_model')\n",
        "converter.optimizations = [tf.lite.Optimize.DEFAULT]\n",
        "tflite_model_unquant = converter.convert()\n",
        "\n",
        "with open('/root/data/model_unquant.tflite', 'wb') as f:\n",
        "  f.write(tflite_model_unquant)"
      ],
      "metadata": {
        "id": "zq8Db8PWO4Vh"
      },
      "execution_count": null,
      "outputs": []
    },
    {
      "cell_type": "code",
      "source": [
        "files.download('/root/data/model_unquant.tflite')"
      ],
      "metadata": {
        "id": "Sn_ymjqtO-VY"
      },
      "execution_count": null,
      "outputs": []
    }
  ]
}